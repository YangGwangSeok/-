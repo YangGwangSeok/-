{
  "nbformat": 4,
  "nbformat_minor": 0,
  "metadata": {
    "colab": {
      "name": "코인 미래예측기",
      "provenance": [],
      "collapsed_sections": [
        "5EIx6qtYnjmy"
      ],
      "toc_visible": true,
      "authorship_tag": "ABX9TyO4citGg9dr2ATm/I1ru/dM",
      "include_colab_link": true
    },
    "kernelspec": {
      "name": "python3",
      "display_name": "Python 3"
    },
    "language_info": {
      "name": "python"
    }
  },
  "cells": [
    {
      "cell_type": "markdown",
      "metadata": {
        "id": "view-in-github",
        "colab_type": "text"
      },
      "source": [
        "<a href=\"https://colab.research.google.com/github/YangGwangSeok/-/blob/main/%EC%BD%94%EC%9D%B8_%EB%AF%B8%EB%9E%98%EC%98%88%EC%B8%A1%EA%B8%B0.ipynb\" target=\"_parent\"><img src=\"https://colab.research.google.com/assets/colab-badge.svg\" alt=\"Open In Colab\"/></a>"
      ]
    },
    {
      "cell_type": "markdown",
      "source": [
        "#모듈설치"
      ],
      "metadata": {
        "id": "5EIx6qtYnjmy"
      }
    },
    {
      "cell_type": "code",
      "source": [
        "pip install binance-connector"
      ],
      "metadata": {
        "colab": {
          "base_uri": "https://localhost:8080/"
        },
        "id": "dOYg3kark5fK",
        "outputId": "b8e0fd7c-d536-4d08-cdc3-6391ef9158aa"
      },
      "execution_count": 19,
      "outputs": [
        {
          "output_type": "stream",
          "name": "stdout",
          "text": [
            "Looking in indexes: https://pypi.org/simple, https://us-python.pkg.dev/colab-wheels/public/simple/\n",
            "Requirement already satisfied: binance-connector in /usr/local/lib/python3.7/dist-packages (1.18.0)\n",
            "Requirement already satisfied: service-identity>=21.1.0 in /usr/local/lib/python3.7/dist-packages (from binance-connector) (21.1.0)\n",
            "Requirement already satisfied: Twisted>=21.2.0 in /usr/local/lib/python3.7/dist-packages (from binance-connector) (22.10.0)\n",
            "Requirement already satisfied: autobahn>=21.2.1 in /usr/local/lib/python3.7/dist-packages (from binance-connector) (22.7.1)\n",
            "Requirement already satisfied: requests>=2.25.1 in /usr/local/lib/python3.7/dist-packages (from binance-connector) (2.28.1)\n",
            "Requirement already satisfied: pyOpenSSL>=19.0.0 in /usr/local/lib/python3.7/dist-packages (from binance-connector) (22.1.0)\n",
            "Requirement already satisfied: txaio>=21.2.1 in /usr/local/lib/python3.7/dist-packages (from autobahn>=21.2.1->binance-connector) (22.2.1)\n",
            "Requirement already satisfied: hyperlink>=21.0.0 in /usr/local/lib/python3.7/dist-packages (from autobahn>=21.2.1->binance-connector) (21.0.0)\n",
            "Requirement already satisfied: setuptools in /usr/local/lib/python3.7/dist-packages (from autobahn>=21.2.1->binance-connector) (57.4.0)\n",
            "Requirement already satisfied: cryptography>=3.4.6 in /usr/local/lib/python3.7/dist-packages (from autobahn>=21.2.1->binance-connector) (38.0.3)\n",
            "Requirement already satisfied: cffi>=1.12 in /usr/local/lib/python3.7/dist-packages (from cryptography>=3.4.6->autobahn>=21.2.1->binance-connector) (1.15.1)\n",
            "Requirement already satisfied: pycparser in /usr/local/lib/python3.7/dist-packages (from cffi>=1.12->cryptography>=3.4.6->autobahn>=21.2.1->binance-connector) (2.21)\n",
            "Requirement already satisfied: idna>=2.5 in /usr/local/lib/python3.7/dist-packages (from hyperlink>=21.0.0->autobahn>=21.2.1->binance-connector) (2.10)\n",
            "Requirement already satisfied: urllib3<1.27,>=1.21.1 in /usr/local/lib/python3.7/dist-packages (from requests>=2.25.1->binance-connector) (1.24.3)\n",
            "Requirement already satisfied: charset-normalizer<3,>=2 in /usr/local/lib/python3.7/dist-packages (from requests>=2.25.1->binance-connector) (2.1.1)\n",
            "Requirement already satisfied: certifi>=2017.4.17 in /usr/local/lib/python3.7/dist-packages (from requests>=2.25.1->binance-connector) (2022.9.24)\n",
            "Requirement already satisfied: pyasn1 in /usr/local/lib/python3.7/dist-packages (from service-identity>=21.1.0->binance-connector) (0.4.8)\n",
            "Requirement already satisfied: pyasn1-modules in /usr/local/lib/python3.7/dist-packages (from service-identity>=21.1.0->binance-connector) (0.2.8)\n",
            "Requirement already satisfied: six in /usr/local/lib/python3.7/dist-packages (from service-identity>=21.1.0->binance-connector) (1.15.0)\n",
            "Requirement already satisfied: attrs>=19.1.0 in /usr/local/lib/python3.7/dist-packages (from service-identity>=21.1.0->binance-connector) (22.1.0)\n",
            "Requirement already satisfied: zope.interface>=4.4.2 in /usr/local/lib/python3.7/dist-packages (from Twisted>=21.2.0->binance-connector) (5.5.1)\n",
            "Requirement already satisfied: Automat>=0.8.0 in /usr/local/lib/python3.7/dist-packages (from Twisted>=21.2.0->binance-connector) (22.10.0)\n",
            "Requirement already satisfied: typing-extensions>=3.6.5 in /usr/local/lib/python3.7/dist-packages (from Twisted>=21.2.0->binance-connector) (4.1.1)\n",
            "Requirement already satisfied: incremental>=21.3.0 in /usr/local/lib/python3.7/dist-packages (from Twisted>=21.2.0->binance-connector) (22.10.0)\n",
            "Requirement already satisfied: constantly>=15.1 in /usr/local/lib/python3.7/dist-packages (from Twisted>=21.2.0->binance-connector) (15.1.0)\n"
          ]
        }
      ]
    },
    {
      "cell_type": "code",
      "source": [
        "pip install --upgrade mplfinance"
      ],
      "metadata": {
        "colab": {
          "base_uri": "https://localhost:8080/"
        },
        "id": "S5YdS1j1nfcU",
        "outputId": "54836184-8cce-41b1-b73c-c6879563e44d"
      },
      "execution_count": 20,
      "outputs": [
        {
          "output_type": "stream",
          "name": "stdout",
          "text": [
            "Looking in indexes: https://pypi.org/simple, https://us-python.pkg.dev/colab-wheels/public/simple/\n",
            "Requirement already satisfied: mplfinance in /usr/local/lib/python3.7/dist-packages (0.12.9b5)\n",
            "Requirement already satisfied: pandas in /usr/local/lib/python3.7/dist-packages (from mplfinance) (1.3.5)\n",
            "Requirement already satisfied: matplotlib in /usr/local/lib/python3.7/dist-packages (from mplfinance) (3.2.2)\n",
            "Requirement already satisfied: python-dateutil>=2.1 in /usr/local/lib/python3.7/dist-packages (from matplotlib->mplfinance) (2.8.2)\n",
            "Requirement already satisfied: cycler>=0.10 in /usr/local/lib/python3.7/dist-packages (from matplotlib->mplfinance) (0.11.0)\n",
            "Requirement already satisfied: numpy>=1.11 in /usr/local/lib/python3.7/dist-packages (from matplotlib->mplfinance) (1.21.6)\n",
            "Requirement already satisfied: pyparsing!=2.0.4,!=2.1.2,!=2.1.6,>=2.0.1 in /usr/local/lib/python3.7/dist-packages (from matplotlib->mplfinance) (3.0.9)\n",
            "Requirement already satisfied: kiwisolver>=1.0.1 in /usr/local/lib/python3.7/dist-packages (from matplotlib->mplfinance) (1.4.4)\n",
            "Requirement already satisfied: typing-extensions in /usr/local/lib/python3.7/dist-packages (from kiwisolver>=1.0.1->matplotlib->mplfinance) (4.1.1)\n",
            "Requirement already satisfied: six>=1.5 in /usr/local/lib/python3.7/dist-packages (from python-dateutil>=2.1->matplotlib->mplfinance) (1.15.0)\n",
            "Requirement already satisfied: pytz>=2017.3 in /usr/local/lib/python3.7/dist-packages (from pandas->mplfinance) (2022.6)\n"
          ]
        }
      ]
    },
    {
      "cell_type": "markdown",
      "source": [
        "#실행1"
      ],
      "metadata": {
        "id": "djnvU-jZnokE"
      }
    },
    {
      "cell_type": "code",
      "source": [
        "import warnings\n",
        "warnings.filterwarnings(action='ignore')"
      ],
      "metadata": {
        "id": "Btc1Blxcqr0V"
      },
      "execution_count": 21,
      "outputs": []
    },
    {
      "cell_type": "code",
      "execution_count": 22,
      "metadata": {
        "colab": {
          "base_uri": "https://localhost:8080/"
        },
        "id": "R9ObtWywjbM2",
        "outputId": "8a7d00a3-e18d-4970-e3cf-99a904ffaf5e"
      },
      "outputs": [
        {
          "output_type": "stream",
          "name": "stdout",
          "text": [
            "{'serverTime': 1668128306477}\n"
          ]
        }
      ],
      "source": [
        "from binance.spot import Spot \n",
        "import datetime\n",
        "import pandas as pd\n",
        "\n",
        "client = Spot()\n",
        "print(client.time())\n",
        "\n",
        "client = Spot(key='EwMt3ZUUK2RzbfZzdTTrT2W6yAtJJnl8LZfUQBGEzZQJfDd3rmlYwwokmeFNRRXK', secret='I06Ygmvt4hYtefi3OyoCnF0CmrsbPcw12deF0hTU9rNQ4SrVh2t5a2RGD94m7mUS')\n"
      ]
    },
    {
      "cell_type": "code",
      "source": [
        "# 1시간봉 차트 10000틱\n",
        "data = client.klines(symbol='BTCUSDT', interval='1h', limit=10000)\n",
        "\n",
        "# 문자열을 float 타입으로 변환\n",
        "for i in range(len(data)):\n",
        "    for j in range(len(data[i])):\n",
        "        if isinstance(data[i][j], str):\n",
        "            data[i][j] = float(data[i][j])\n"
      ],
      "metadata": {
        "id": "-kqiHMJ9nHM4"
      },
      "execution_count": 23,
      "outputs": []
    },
    {
      "cell_type": "code",
      "source": [
        "\n",
        "# pandas DataFrame 객체 생성\n",
        "df = pd.DataFrame(data, columns=\n",
        "             [\n",
        "                'datetime', \n",
        "                'open', \n",
        "                'high', \n",
        "                'low', \n",
        "                'close', \n",
        "                'volume', \n",
        "                'closeTime', \n",
        "                'QuoteAssetVolume', \n",
        "                'NumTrades',\n",
        "                'TakerBuyBaseAssetVolume',\n",
        "                'TakerBuyQuoteAssetVolume'  ,\n",
        "                 'Ignore'\n",
        "                ]\n",
        ") \n",
        "df['datetime'] = pd.to_datetime(df['datetime'], unit='ms')\n",
        "# df.set_index('datetime', inplace=True)\n",
        "df"
      ],
      "metadata": {
        "colab": {
          "base_uri": "https://localhost:8080/",
          "height": 424
        },
        "id": "EBAgpwWDnKvc",
        "outputId": "f9f9c7f7-09e3-447c-f903-fb9995f447b3"
      },
      "execution_count": 24,
      "outputs": [
        {
          "output_type": "execute_result",
          "data": {
            "text/plain": [
              "               datetime      open      high       low     close       volume  \\\n",
              "0   2022-09-30 09:00:00  19623.80  19630.58  19491.11  19527.02  12658.85981   \n",
              "1   2022-09-30 10:00:00  19528.02  19562.12  19441.92  19485.77  15975.87996   \n",
              "2   2022-09-30 11:00:00  19485.77  19519.00  19400.32  19436.29  14939.73635   \n",
              "3   2022-09-30 12:00:00  19435.79  19503.90  19155.36  19297.19  31268.82643   \n",
              "4   2022-09-30 13:00:00  19298.59  19484.00  19234.88  19472.09  28423.64835   \n",
              "..                  ...       ...       ...       ...       ...          ...   \n",
              "995 2022-11-10 20:00:00  17456.98  18199.00  17374.81  18108.48  23001.94040   \n",
              "996 2022-11-10 21:00:00  18105.16  18166.65  17766.91  17858.67  19586.37136   \n",
              "997 2022-11-10 22:00:00  17856.17  17892.74  17677.53  17823.27   9322.50191   \n",
              "998 2022-11-10 23:00:00  17825.07  17856.72  17478.00  17601.15  13921.52041   \n",
              "999 2022-11-11 00:00:00  17602.45  17660.00  17404.87  17577.43  14152.59687   \n",
              "\n",
              "         closeTime  QuoteAssetVolume  NumTrades  TakerBuyBaseAssetVolume  \\\n",
              "0    1664531999999      2.474479e+08     157398               6043.68840   \n",
              "1    1664535599999      3.117034e+08     189284               7791.67834   \n",
              "2    1664539199999      2.907816e+08     195365               7174.88437   \n",
              "3    1664542799999      6.042154e+08     493371              15371.43642   \n",
              "4    1664546399999      5.489400e+08     419662              14908.91191   \n",
              "..             ...               ...        ...                      ...   \n",
              "995  1668113999999      4.074195e+08     474603              11974.20358   \n",
              "996  1668117599999      3.516142e+08     472229              10047.68417   \n",
              "997  1668121199999      1.658317e+08     233566               4769.22470   \n",
              "998  1668124799999      2.451751e+08     290827               6693.30988   \n",
              "999  1668128399999      2.482478e+08     357679               7092.38819   \n",
              "\n",
              "     TakerBuyQuoteAssetVolume  Ignore  \n",
              "0                1.181438e+08     0.0  \n",
              "1                1.520278e+08     0.0  \n",
              "2                1.396558e+08     0.0  \n",
              "3                2.970541e+08     0.0  \n",
              "4                2.879688e+08     0.0  \n",
              "..                        ...     ...  \n",
              "995              2.121888e+08     0.0  \n",
              "996              1.803935e+08     0.0  \n",
              "997              8.483660e+07     0.0  \n",
              "998              1.178699e+08     0.0  \n",
              "999              1.244111e+08     0.0  \n",
              "\n",
              "[1000 rows x 12 columns]"
            ],
            "text/html": [
              "\n",
              "  <div id=\"df-de191fc1-209b-45c4-8a6a-3d722c4645d3\">\n",
              "    <div class=\"colab-df-container\">\n",
              "      <div>\n",
              "<style scoped>\n",
              "    .dataframe tbody tr th:only-of-type {\n",
              "        vertical-align: middle;\n",
              "    }\n",
              "\n",
              "    .dataframe tbody tr th {\n",
              "        vertical-align: top;\n",
              "    }\n",
              "\n",
              "    .dataframe thead th {\n",
              "        text-align: right;\n",
              "    }\n",
              "</style>\n",
              "<table border=\"1\" class=\"dataframe\">\n",
              "  <thead>\n",
              "    <tr style=\"text-align: right;\">\n",
              "      <th></th>\n",
              "      <th>datetime</th>\n",
              "      <th>open</th>\n",
              "      <th>high</th>\n",
              "      <th>low</th>\n",
              "      <th>close</th>\n",
              "      <th>volume</th>\n",
              "      <th>closeTime</th>\n",
              "      <th>QuoteAssetVolume</th>\n",
              "      <th>NumTrades</th>\n",
              "      <th>TakerBuyBaseAssetVolume</th>\n",
              "      <th>TakerBuyQuoteAssetVolume</th>\n",
              "      <th>Ignore</th>\n",
              "    </tr>\n",
              "  </thead>\n",
              "  <tbody>\n",
              "    <tr>\n",
              "      <th>0</th>\n",
              "      <td>2022-09-30 09:00:00</td>\n",
              "      <td>19623.80</td>\n",
              "      <td>19630.58</td>\n",
              "      <td>19491.11</td>\n",
              "      <td>19527.02</td>\n",
              "      <td>12658.85981</td>\n",
              "      <td>1664531999999</td>\n",
              "      <td>2.474479e+08</td>\n",
              "      <td>157398</td>\n",
              "      <td>6043.68840</td>\n",
              "      <td>1.181438e+08</td>\n",
              "      <td>0.0</td>\n",
              "    </tr>\n",
              "    <tr>\n",
              "      <th>1</th>\n",
              "      <td>2022-09-30 10:00:00</td>\n",
              "      <td>19528.02</td>\n",
              "      <td>19562.12</td>\n",
              "      <td>19441.92</td>\n",
              "      <td>19485.77</td>\n",
              "      <td>15975.87996</td>\n",
              "      <td>1664535599999</td>\n",
              "      <td>3.117034e+08</td>\n",
              "      <td>189284</td>\n",
              "      <td>7791.67834</td>\n",
              "      <td>1.520278e+08</td>\n",
              "      <td>0.0</td>\n",
              "    </tr>\n",
              "    <tr>\n",
              "      <th>2</th>\n",
              "      <td>2022-09-30 11:00:00</td>\n",
              "      <td>19485.77</td>\n",
              "      <td>19519.00</td>\n",
              "      <td>19400.32</td>\n",
              "      <td>19436.29</td>\n",
              "      <td>14939.73635</td>\n",
              "      <td>1664539199999</td>\n",
              "      <td>2.907816e+08</td>\n",
              "      <td>195365</td>\n",
              "      <td>7174.88437</td>\n",
              "      <td>1.396558e+08</td>\n",
              "      <td>0.0</td>\n",
              "    </tr>\n",
              "    <tr>\n",
              "      <th>3</th>\n",
              "      <td>2022-09-30 12:00:00</td>\n",
              "      <td>19435.79</td>\n",
              "      <td>19503.90</td>\n",
              "      <td>19155.36</td>\n",
              "      <td>19297.19</td>\n",
              "      <td>31268.82643</td>\n",
              "      <td>1664542799999</td>\n",
              "      <td>6.042154e+08</td>\n",
              "      <td>493371</td>\n",
              "      <td>15371.43642</td>\n",
              "      <td>2.970541e+08</td>\n",
              "      <td>0.0</td>\n",
              "    </tr>\n",
              "    <tr>\n",
              "      <th>4</th>\n",
              "      <td>2022-09-30 13:00:00</td>\n",
              "      <td>19298.59</td>\n",
              "      <td>19484.00</td>\n",
              "      <td>19234.88</td>\n",
              "      <td>19472.09</td>\n",
              "      <td>28423.64835</td>\n",
              "      <td>1664546399999</td>\n",
              "      <td>5.489400e+08</td>\n",
              "      <td>419662</td>\n",
              "      <td>14908.91191</td>\n",
              "      <td>2.879688e+08</td>\n",
              "      <td>0.0</td>\n",
              "    </tr>\n",
              "    <tr>\n",
              "      <th>...</th>\n",
              "      <td>...</td>\n",
              "      <td>...</td>\n",
              "      <td>...</td>\n",
              "      <td>...</td>\n",
              "      <td>...</td>\n",
              "      <td>...</td>\n",
              "      <td>...</td>\n",
              "      <td>...</td>\n",
              "      <td>...</td>\n",
              "      <td>...</td>\n",
              "      <td>...</td>\n",
              "      <td>...</td>\n",
              "    </tr>\n",
              "    <tr>\n",
              "      <th>995</th>\n",
              "      <td>2022-11-10 20:00:00</td>\n",
              "      <td>17456.98</td>\n",
              "      <td>18199.00</td>\n",
              "      <td>17374.81</td>\n",
              "      <td>18108.48</td>\n",
              "      <td>23001.94040</td>\n",
              "      <td>1668113999999</td>\n",
              "      <td>4.074195e+08</td>\n",
              "      <td>474603</td>\n",
              "      <td>11974.20358</td>\n",
              "      <td>2.121888e+08</td>\n",
              "      <td>0.0</td>\n",
              "    </tr>\n",
              "    <tr>\n",
              "      <th>996</th>\n",
              "      <td>2022-11-10 21:00:00</td>\n",
              "      <td>18105.16</td>\n",
              "      <td>18166.65</td>\n",
              "      <td>17766.91</td>\n",
              "      <td>17858.67</td>\n",
              "      <td>19586.37136</td>\n",
              "      <td>1668117599999</td>\n",
              "      <td>3.516142e+08</td>\n",
              "      <td>472229</td>\n",
              "      <td>10047.68417</td>\n",
              "      <td>1.803935e+08</td>\n",
              "      <td>0.0</td>\n",
              "    </tr>\n",
              "    <tr>\n",
              "      <th>997</th>\n",
              "      <td>2022-11-10 22:00:00</td>\n",
              "      <td>17856.17</td>\n",
              "      <td>17892.74</td>\n",
              "      <td>17677.53</td>\n",
              "      <td>17823.27</td>\n",
              "      <td>9322.50191</td>\n",
              "      <td>1668121199999</td>\n",
              "      <td>1.658317e+08</td>\n",
              "      <td>233566</td>\n",
              "      <td>4769.22470</td>\n",
              "      <td>8.483660e+07</td>\n",
              "      <td>0.0</td>\n",
              "    </tr>\n",
              "    <tr>\n",
              "      <th>998</th>\n",
              "      <td>2022-11-10 23:00:00</td>\n",
              "      <td>17825.07</td>\n",
              "      <td>17856.72</td>\n",
              "      <td>17478.00</td>\n",
              "      <td>17601.15</td>\n",
              "      <td>13921.52041</td>\n",
              "      <td>1668124799999</td>\n",
              "      <td>2.451751e+08</td>\n",
              "      <td>290827</td>\n",
              "      <td>6693.30988</td>\n",
              "      <td>1.178699e+08</td>\n",
              "      <td>0.0</td>\n",
              "    </tr>\n",
              "    <tr>\n",
              "      <th>999</th>\n",
              "      <td>2022-11-11 00:00:00</td>\n",
              "      <td>17602.45</td>\n",
              "      <td>17660.00</td>\n",
              "      <td>17404.87</td>\n",
              "      <td>17577.43</td>\n",
              "      <td>14152.59687</td>\n",
              "      <td>1668128399999</td>\n",
              "      <td>2.482478e+08</td>\n",
              "      <td>357679</td>\n",
              "      <td>7092.38819</td>\n",
              "      <td>1.244111e+08</td>\n",
              "      <td>0.0</td>\n",
              "    </tr>\n",
              "  </tbody>\n",
              "</table>\n",
              "<p>1000 rows × 12 columns</p>\n",
              "</div>\n",
              "      <button class=\"colab-df-convert\" onclick=\"convertToInteractive('df-de191fc1-209b-45c4-8a6a-3d722c4645d3')\"\n",
              "              title=\"Convert this dataframe to an interactive table.\"\n",
              "              style=\"display:none;\">\n",
              "        \n",
              "  <svg xmlns=\"http://www.w3.org/2000/svg\" height=\"24px\"viewBox=\"0 0 24 24\"\n",
              "       width=\"24px\">\n",
              "    <path d=\"M0 0h24v24H0V0z\" fill=\"none\"/>\n",
              "    <path d=\"M18.56 5.44l.94 2.06.94-2.06 2.06-.94-2.06-.94-.94-2.06-.94 2.06-2.06.94zm-11 1L8.5 8.5l.94-2.06 2.06-.94-2.06-.94L8.5 2.5l-.94 2.06-2.06.94zm10 10l.94 2.06.94-2.06 2.06-.94-2.06-.94-.94-2.06-.94 2.06-2.06.94z\"/><path d=\"M17.41 7.96l-1.37-1.37c-.4-.4-.92-.59-1.43-.59-.52 0-1.04.2-1.43.59L10.3 9.45l-7.72 7.72c-.78.78-.78 2.05 0 2.83L4 21.41c.39.39.9.59 1.41.59.51 0 1.02-.2 1.41-.59l7.78-7.78 2.81-2.81c.8-.78.8-2.07 0-2.86zM5.41 20L4 18.59l7.72-7.72 1.47 1.35L5.41 20z\"/>\n",
              "  </svg>\n",
              "      </button>\n",
              "      \n",
              "  <style>\n",
              "    .colab-df-container {\n",
              "      display:flex;\n",
              "      flex-wrap:wrap;\n",
              "      gap: 12px;\n",
              "    }\n",
              "\n",
              "    .colab-df-convert {\n",
              "      background-color: #E8F0FE;\n",
              "      border: none;\n",
              "      border-radius: 50%;\n",
              "      cursor: pointer;\n",
              "      display: none;\n",
              "      fill: #1967D2;\n",
              "      height: 32px;\n",
              "      padding: 0 0 0 0;\n",
              "      width: 32px;\n",
              "    }\n",
              "\n",
              "    .colab-df-convert:hover {\n",
              "      background-color: #E2EBFA;\n",
              "      box-shadow: 0px 1px 2px rgba(60, 64, 67, 0.3), 0px 1px 3px 1px rgba(60, 64, 67, 0.15);\n",
              "      fill: #174EA6;\n",
              "    }\n",
              "\n",
              "    [theme=dark] .colab-df-convert {\n",
              "      background-color: #3B4455;\n",
              "      fill: #D2E3FC;\n",
              "    }\n",
              "\n",
              "    [theme=dark] .colab-df-convert:hover {\n",
              "      background-color: #434B5C;\n",
              "      box-shadow: 0px 1px 3px 1px rgba(0, 0, 0, 0.15);\n",
              "      filter: drop-shadow(0px 1px 2px rgba(0, 0, 0, 0.3));\n",
              "      fill: #FFFFFF;\n",
              "    }\n",
              "  </style>\n",
              "\n",
              "      <script>\n",
              "        const buttonEl =\n",
              "          document.querySelector('#df-de191fc1-209b-45c4-8a6a-3d722c4645d3 button.colab-df-convert');\n",
              "        buttonEl.style.display =\n",
              "          google.colab.kernel.accessAllowed ? 'block' : 'none';\n",
              "\n",
              "        async function convertToInteractive(key) {\n",
              "          const element = document.querySelector('#df-de191fc1-209b-45c4-8a6a-3d722c4645d3');\n",
              "          const dataTable =\n",
              "            await google.colab.kernel.invokeFunction('convertToInteractive',\n",
              "                                                     [key], {});\n",
              "          if (!dataTable) return;\n",
              "\n",
              "          const docLinkHtml = 'Like what you see? Visit the ' +\n",
              "            '<a target=\"_blank\" href=https://colab.research.google.com/notebooks/data_table.ipynb>data table notebook</a>'\n",
              "            + ' to learn more about interactive tables.';\n",
              "          element.innerHTML = '';\n",
              "          dataTable['output_type'] = 'display_data';\n",
              "          await google.colab.output.renderOutput(dataTable, element);\n",
              "          const docLink = document.createElement('div');\n",
              "          docLink.innerHTML = docLinkHtml;\n",
              "          element.appendChild(docLink);\n",
              "        }\n",
              "      </script>\n",
              "    </div>\n",
              "  </div>\n",
              "  "
            ]
          },
          "metadata": {},
          "execution_count": 24
        }
      ]
    },
    {
      "cell_type": "code",
      "source": [
        "\n",
        "\n",
        "# Timestamp를 Datetime(날짜-시간)형태로 변환\n",
        "# df['datetime'] = pd.to_datetime(df['datetime'], unit='ms')\n",
        "# df.set_index('datetime', inplace=True)\n",
        "\n",
        "# 필요한 차트 데이터만 가져오기\n",
        "df = df.reset_index()\n",
        "df['ds'] = df['datetime']\n",
        "df['y'] = df['close']\n",
        "data = df[['ds','y']]\n",
        "data"
      ],
      "metadata": {
        "colab": {
          "base_uri": "https://localhost:8080/",
          "height": 424
        },
        "id": "EadSsVmDpDK1",
        "outputId": "7bd9b833-4990-427b-fc86-5d8c866fa258"
      },
      "execution_count": 25,
      "outputs": [
        {
          "output_type": "execute_result",
          "data": {
            "text/plain": [
              "                     ds         y\n",
              "0   2022-09-30 09:00:00  19527.02\n",
              "1   2022-09-30 10:00:00  19485.77\n",
              "2   2022-09-30 11:00:00  19436.29\n",
              "3   2022-09-30 12:00:00  19297.19\n",
              "4   2022-09-30 13:00:00  19472.09\n",
              "..                  ...       ...\n",
              "995 2022-11-10 20:00:00  18108.48\n",
              "996 2022-11-10 21:00:00  17858.67\n",
              "997 2022-11-10 22:00:00  17823.27\n",
              "998 2022-11-10 23:00:00  17601.15\n",
              "999 2022-11-11 00:00:00  17577.43\n",
              "\n",
              "[1000 rows x 2 columns]"
            ],
            "text/html": [
              "\n",
              "  <div id=\"df-10959a90-3052-4012-9ee2-37357ef9d442\">\n",
              "    <div class=\"colab-df-container\">\n",
              "      <div>\n",
              "<style scoped>\n",
              "    .dataframe tbody tr th:only-of-type {\n",
              "        vertical-align: middle;\n",
              "    }\n",
              "\n",
              "    .dataframe tbody tr th {\n",
              "        vertical-align: top;\n",
              "    }\n",
              "\n",
              "    .dataframe thead th {\n",
              "        text-align: right;\n",
              "    }\n",
              "</style>\n",
              "<table border=\"1\" class=\"dataframe\">\n",
              "  <thead>\n",
              "    <tr style=\"text-align: right;\">\n",
              "      <th></th>\n",
              "      <th>ds</th>\n",
              "      <th>y</th>\n",
              "    </tr>\n",
              "  </thead>\n",
              "  <tbody>\n",
              "    <tr>\n",
              "      <th>0</th>\n",
              "      <td>2022-09-30 09:00:00</td>\n",
              "      <td>19527.02</td>\n",
              "    </tr>\n",
              "    <tr>\n",
              "      <th>1</th>\n",
              "      <td>2022-09-30 10:00:00</td>\n",
              "      <td>19485.77</td>\n",
              "    </tr>\n",
              "    <tr>\n",
              "      <th>2</th>\n",
              "      <td>2022-09-30 11:00:00</td>\n",
              "      <td>19436.29</td>\n",
              "    </tr>\n",
              "    <tr>\n",
              "      <th>3</th>\n",
              "      <td>2022-09-30 12:00:00</td>\n",
              "      <td>19297.19</td>\n",
              "    </tr>\n",
              "    <tr>\n",
              "      <th>4</th>\n",
              "      <td>2022-09-30 13:00:00</td>\n",
              "      <td>19472.09</td>\n",
              "    </tr>\n",
              "    <tr>\n",
              "      <th>...</th>\n",
              "      <td>...</td>\n",
              "      <td>...</td>\n",
              "    </tr>\n",
              "    <tr>\n",
              "      <th>995</th>\n",
              "      <td>2022-11-10 20:00:00</td>\n",
              "      <td>18108.48</td>\n",
              "    </tr>\n",
              "    <tr>\n",
              "      <th>996</th>\n",
              "      <td>2022-11-10 21:00:00</td>\n",
              "      <td>17858.67</td>\n",
              "    </tr>\n",
              "    <tr>\n",
              "      <th>997</th>\n",
              "      <td>2022-11-10 22:00:00</td>\n",
              "      <td>17823.27</td>\n",
              "    </tr>\n",
              "    <tr>\n",
              "      <th>998</th>\n",
              "      <td>2022-11-10 23:00:00</td>\n",
              "      <td>17601.15</td>\n",
              "    </tr>\n",
              "    <tr>\n",
              "      <th>999</th>\n",
              "      <td>2022-11-11 00:00:00</td>\n",
              "      <td>17577.43</td>\n",
              "    </tr>\n",
              "  </tbody>\n",
              "</table>\n",
              "<p>1000 rows × 2 columns</p>\n",
              "</div>\n",
              "      <button class=\"colab-df-convert\" onclick=\"convertToInteractive('df-10959a90-3052-4012-9ee2-37357ef9d442')\"\n",
              "              title=\"Convert this dataframe to an interactive table.\"\n",
              "              style=\"display:none;\">\n",
              "        \n",
              "  <svg xmlns=\"http://www.w3.org/2000/svg\" height=\"24px\"viewBox=\"0 0 24 24\"\n",
              "       width=\"24px\">\n",
              "    <path d=\"M0 0h24v24H0V0z\" fill=\"none\"/>\n",
              "    <path d=\"M18.56 5.44l.94 2.06.94-2.06 2.06-.94-2.06-.94-.94-2.06-.94 2.06-2.06.94zm-11 1L8.5 8.5l.94-2.06 2.06-.94-2.06-.94L8.5 2.5l-.94 2.06-2.06.94zm10 10l.94 2.06.94-2.06 2.06-.94-2.06-.94-.94-2.06-.94 2.06-2.06.94z\"/><path d=\"M17.41 7.96l-1.37-1.37c-.4-.4-.92-.59-1.43-.59-.52 0-1.04.2-1.43.59L10.3 9.45l-7.72 7.72c-.78.78-.78 2.05 0 2.83L4 21.41c.39.39.9.59 1.41.59.51 0 1.02-.2 1.41-.59l7.78-7.78 2.81-2.81c.8-.78.8-2.07 0-2.86zM5.41 20L4 18.59l7.72-7.72 1.47 1.35L5.41 20z\"/>\n",
              "  </svg>\n",
              "      </button>\n",
              "      \n",
              "  <style>\n",
              "    .colab-df-container {\n",
              "      display:flex;\n",
              "      flex-wrap:wrap;\n",
              "      gap: 12px;\n",
              "    }\n",
              "\n",
              "    .colab-df-convert {\n",
              "      background-color: #E8F0FE;\n",
              "      border: none;\n",
              "      border-radius: 50%;\n",
              "      cursor: pointer;\n",
              "      display: none;\n",
              "      fill: #1967D2;\n",
              "      height: 32px;\n",
              "      padding: 0 0 0 0;\n",
              "      width: 32px;\n",
              "    }\n",
              "\n",
              "    .colab-df-convert:hover {\n",
              "      background-color: #E2EBFA;\n",
              "      box-shadow: 0px 1px 2px rgba(60, 64, 67, 0.3), 0px 1px 3px 1px rgba(60, 64, 67, 0.15);\n",
              "      fill: #174EA6;\n",
              "    }\n",
              "\n",
              "    [theme=dark] .colab-df-convert {\n",
              "      background-color: #3B4455;\n",
              "      fill: #D2E3FC;\n",
              "    }\n",
              "\n",
              "    [theme=dark] .colab-df-convert:hover {\n",
              "      background-color: #434B5C;\n",
              "      box-shadow: 0px 1px 3px 1px rgba(0, 0, 0, 0.15);\n",
              "      filter: drop-shadow(0px 1px 2px rgba(0, 0, 0, 0.3));\n",
              "      fill: #FFFFFF;\n",
              "    }\n",
              "  </style>\n",
              "\n",
              "      <script>\n",
              "        const buttonEl =\n",
              "          document.querySelector('#df-10959a90-3052-4012-9ee2-37357ef9d442 button.colab-df-convert');\n",
              "        buttonEl.style.display =\n",
              "          google.colab.kernel.accessAllowed ? 'block' : 'none';\n",
              "\n",
              "        async function convertToInteractive(key) {\n",
              "          const element = document.querySelector('#df-10959a90-3052-4012-9ee2-37357ef9d442');\n",
              "          const dataTable =\n",
              "            await google.colab.kernel.invokeFunction('convertToInteractive',\n",
              "                                                     [key], {});\n",
              "          if (!dataTable) return;\n",
              "\n",
              "          const docLinkHtml = 'Like what you see? Visit the ' +\n",
              "            '<a target=\"_blank\" href=https://colab.research.google.com/notebooks/data_table.ipynb>data table notebook</a>'\n",
              "            + ' to learn more about interactive tables.';\n",
              "          element.innerHTML = '';\n",
              "          dataTable['output_type'] = 'display_data';\n",
              "          await google.colab.output.renderOutput(dataTable, element);\n",
              "          const docLink = document.createElement('div');\n",
              "          docLink.innerHTML = docLinkHtml;\n",
              "          element.appendChild(docLink);\n",
              "        }\n",
              "      </script>\n",
              "    </div>\n",
              "  </div>\n",
              "  "
            ]
          },
          "metadata": {},
          "execution_count": 25
        }
      ]
    },
    {
      "cell_type": "code",
      "source": [
        "# data.to_csv('test1.csv')"
      ],
      "metadata": {
        "id": "_1-VrFFS0OWD"
      },
      "execution_count": 26,
      "outputs": []
    },
    {
      "cell_type": "code",
      "source": [
        "# df = pd.read_csv('test1.csv', names=['ds', 'y'])\n",
        "# df"
      ],
      "metadata": {
        "id": "0T9War420krd"
      },
      "execution_count": 27,
      "outputs": []
    },
    {
      "cell_type": "code",
      "source": [
        "# data =data.iloc[1:] #첫번째  low(열)을 지우는 코드\n",
        "data.dtypes"
      ],
      "metadata": {
        "colab": {
          "base_uri": "https://localhost:8080/"
        },
        "id": "4zr6nSzrrpkn",
        "outputId": "3da0a274-a14c-425d-87d5-ffbeb3638ca7"
      },
      "execution_count": 28,
      "outputs": [
        {
          "output_type": "execute_result",
          "data": {
            "text/plain": [
              "ds    datetime64[ns]\n",
              "y            float64\n",
              "dtype: object"
            ]
          },
          "metadata": {},
          "execution_count": 28
        }
      ]
    },
    {
      "cell_type": "code",
      "source": [
        "data"
      ],
      "metadata": {
        "colab": {
          "base_uri": "https://localhost:8080/",
          "height": 424
        },
        "id": "d46tmKskqh1H",
        "outputId": "fab34f3d-543b-47d3-a7b3-80d4fb84cd9d"
      },
      "execution_count": 29,
      "outputs": [
        {
          "output_type": "execute_result",
          "data": {
            "text/plain": [
              "                     ds         y\n",
              "0   2022-09-30 09:00:00  19527.02\n",
              "1   2022-09-30 10:00:00  19485.77\n",
              "2   2022-09-30 11:00:00  19436.29\n",
              "3   2022-09-30 12:00:00  19297.19\n",
              "4   2022-09-30 13:00:00  19472.09\n",
              "..                  ...       ...\n",
              "995 2022-11-10 20:00:00  18108.48\n",
              "996 2022-11-10 21:00:00  17858.67\n",
              "997 2022-11-10 22:00:00  17823.27\n",
              "998 2022-11-10 23:00:00  17601.15\n",
              "999 2022-11-11 00:00:00  17577.43\n",
              "\n",
              "[1000 rows x 2 columns]"
            ],
            "text/html": [
              "\n",
              "  <div id=\"df-53abb213-d06f-4e5b-b081-c7778befafde\">\n",
              "    <div class=\"colab-df-container\">\n",
              "      <div>\n",
              "<style scoped>\n",
              "    .dataframe tbody tr th:only-of-type {\n",
              "        vertical-align: middle;\n",
              "    }\n",
              "\n",
              "    .dataframe tbody tr th {\n",
              "        vertical-align: top;\n",
              "    }\n",
              "\n",
              "    .dataframe thead th {\n",
              "        text-align: right;\n",
              "    }\n",
              "</style>\n",
              "<table border=\"1\" class=\"dataframe\">\n",
              "  <thead>\n",
              "    <tr style=\"text-align: right;\">\n",
              "      <th></th>\n",
              "      <th>ds</th>\n",
              "      <th>y</th>\n",
              "    </tr>\n",
              "  </thead>\n",
              "  <tbody>\n",
              "    <tr>\n",
              "      <th>0</th>\n",
              "      <td>2022-09-30 09:00:00</td>\n",
              "      <td>19527.02</td>\n",
              "    </tr>\n",
              "    <tr>\n",
              "      <th>1</th>\n",
              "      <td>2022-09-30 10:00:00</td>\n",
              "      <td>19485.77</td>\n",
              "    </tr>\n",
              "    <tr>\n",
              "      <th>2</th>\n",
              "      <td>2022-09-30 11:00:00</td>\n",
              "      <td>19436.29</td>\n",
              "    </tr>\n",
              "    <tr>\n",
              "      <th>3</th>\n",
              "      <td>2022-09-30 12:00:00</td>\n",
              "      <td>19297.19</td>\n",
              "    </tr>\n",
              "    <tr>\n",
              "      <th>4</th>\n",
              "      <td>2022-09-30 13:00:00</td>\n",
              "      <td>19472.09</td>\n",
              "    </tr>\n",
              "    <tr>\n",
              "      <th>...</th>\n",
              "      <td>...</td>\n",
              "      <td>...</td>\n",
              "    </tr>\n",
              "    <tr>\n",
              "      <th>995</th>\n",
              "      <td>2022-11-10 20:00:00</td>\n",
              "      <td>18108.48</td>\n",
              "    </tr>\n",
              "    <tr>\n",
              "      <th>996</th>\n",
              "      <td>2022-11-10 21:00:00</td>\n",
              "      <td>17858.67</td>\n",
              "    </tr>\n",
              "    <tr>\n",
              "      <th>997</th>\n",
              "      <td>2022-11-10 22:00:00</td>\n",
              "      <td>17823.27</td>\n",
              "    </tr>\n",
              "    <tr>\n",
              "      <th>998</th>\n",
              "      <td>2022-11-10 23:00:00</td>\n",
              "      <td>17601.15</td>\n",
              "    </tr>\n",
              "    <tr>\n",
              "      <th>999</th>\n",
              "      <td>2022-11-11 00:00:00</td>\n",
              "      <td>17577.43</td>\n",
              "    </tr>\n",
              "  </tbody>\n",
              "</table>\n",
              "<p>1000 rows × 2 columns</p>\n",
              "</div>\n",
              "      <button class=\"colab-df-convert\" onclick=\"convertToInteractive('df-53abb213-d06f-4e5b-b081-c7778befafde')\"\n",
              "              title=\"Convert this dataframe to an interactive table.\"\n",
              "              style=\"display:none;\">\n",
              "        \n",
              "  <svg xmlns=\"http://www.w3.org/2000/svg\" height=\"24px\"viewBox=\"0 0 24 24\"\n",
              "       width=\"24px\">\n",
              "    <path d=\"M0 0h24v24H0V0z\" fill=\"none\"/>\n",
              "    <path d=\"M18.56 5.44l.94 2.06.94-2.06 2.06-.94-2.06-.94-.94-2.06-.94 2.06-2.06.94zm-11 1L8.5 8.5l.94-2.06 2.06-.94-2.06-.94L8.5 2.5l-.94 2.06-2.06.94zm10 10l.94 2.06.94-2.06 2.06-.94-2.06-.94-.94-2.06-.94 2.06-2.06.94z\"/><path d=\"M17.41 7.96l-1.37-1.37c-.4-.4-.92-.59-1.43-.59-.52 0-1.04.2-1.43.59L10.3 9.45l-7.72 7.72c-.78.78-.78 2.05 0 2.83L4 21.41c.39.39.9.59 1.41.59.51 0 1.02-.2 1.41-.59l7.78-7.78 2.81-2.81c.8-.78.8-2.07 0-2.86zM5.41 20L4 18.59l7.72-7.72 1.47 1.35L5.41 20z\"/>\n",
              "  </svg>\n",
              "      </button>\n",
              "      \n",
              "  <style>\n",
              "    .colab-df-container {\n",
              "      display:flex;\n",
              "      flex-wrap:wrap;\n",
              "      gap: 12px;\n",
              "    }\n",
              "\n",
              "    .colab-df-convert {\n",
              "      background-color: #E8F0FE;\n",
              "      border: none;\n",
              "      border-radius: 50%;\n",
              "      cursor: pointer;\n",
              "      display: none;\n",
              "      fill: #1967D2;\n",
              "      height: 32px;\n",
              "      padding: 0 0 0 0;\n",
              "      width: 32px;\n",
              "    }\n",
              "\n",
              "    .colab-df-convert:hover {\n",
              "      background-color: #E2EBFA;\n",
              "      box-shadow: 0px 1px 2px rgba(60, 64, 67, 0.3), 0px 1px 3px 1px rgba(60, 64, 67, 0.15);\n",
              "      fill: #174EA6;\n",
              "    }\n",
              "\n",
              "    [theme=dark] .colab-df-convert {\n",
              "      background-color: #3B4455;\n",
              "      fill: #D2E3FC;\n",
              "    }\n",
              "\n",
              "    [theme=dark] .colab-df-convert:hover {\n",
              "      background-color: #434B5C;\n",
              "      box-shadow: 0px 1px 3px 1px rgba(0, 0, 0, 0.15);\n",
              "      filter: drop-shadow(0px 1px 2px rgba(0, 0, 0, 0.3));\n",
              "      fill: #FFFFFF;\n",
              "    }\n",
              "  </style>\n",
              "\n",
              "      <script>\n",
              "        const buttonEl =\n",
              "          document.querySelector('#df-53abb213-d06f-4e5b-b081-c7778befafde button.colab-df-convert');\n",
              "        buttonEl.style.display =\n",
              "          google.colab.kernel.accessAllowed ? 'block' : 'none';\n",
              "\n",
              "        async function convertToInteractive(key) {\n",
              "          const element = document.querySelector('#df-53abb213-d06f-4e5b-b081-c7778befafde');\n",
              "          const dataTable =\n",
              "            await google.colab.kernel.invokeFunction('convertToInteractive',\n",
              "                                                     [key], {});\n",
              "          if (!dataTable) return;\n",
              "\n",
              "          const docLinkHtml = 'Like what you see? Visit the ' +\n",
              "            '<a target=\"_blank\" href=https://colab.research.google.com/notebooks/data_table.ipynb>data table notebook</a>'\n",
              "            + ' to learn more about interactive tables.';\n",
              "          element.innerHTML = '';\n",
              "          dataTable['output_type'] = 'display_data';\n",
              "          await google.colab.output.renderOutput(dataTable, element);\n",
              "          const docLink = document.createElement('div');\n",
              "          docLink.innerHTML = docLinkHtml;\n",
              "          element.appendChild(docLink);\n",
              "        }\n",
              "      </script>\n",
              "    </div>\n",
              "  </div>\n",
              "  "
            ]
          },
          "metadata": {},
          "execution_count": 29
        }
      ]
    },
    {
      "cell_type": "code",
      "source": [
        "data['ds'] = pd.DatetimeIndex(data['ds'])\n",
        "data['y'] = data['y'].astype('float64')"
      ],
      "metadata": {
        "id": "cH4fTDoAsTtE"
      },
      "execution_count": 30,
      "outputs": []
    },
    {
      "cell_type": "code",
      "source": [
        "import prophet"
      ],
      "metadata": {
        "id": "4LfXiBGXuoyW"
      },
      "execution_count": 31,
      "outputs": []
    },
    {
      "cell_type": "code",
      "source": [
        "m = prophet\n",
        "m.fit(data)"
      ],
      "metadata": {
        "id": "AlQX03eJqmwU",
        "colab": {
          "base_uri": "https://localhost:8080/",
          "height": 193
        },
        "outputId": "4f8b3b90-4b84-4106-8e70-05efbd82384a"
      },
      "execution_count": 34,
      "outputs": [
        {
          "output_type": "error",
          "ename": "AttributeError",
          "evalue": "ignored",
          "traceback": [
            "\u001b[0;31m---------------------------------------------------------------------------\u001b[0m",
            "\u001b[0;31mAttributeError\u001b[0m                            Traceback (most recent call last)",
            "\u001b[0;32m<ipython-input-34-7c500c2a5454>\u001b[0m in \u001b[0;36m<module>\u001b[0;34m\u001b[0m\n\u001b[1;32m      1\u001b[0m \u001b[0mm\u001b[0m \u001b[0;34m=\u001b[0m \u001b[0mprophet\u001b[0m\u001b[0;34m\u001b[0m\u001b[0;34m\u001b[0m\u001b[0m\n\u001b[0;32m----> 2\u001b[0;31m \u001b[0mm\u001b[0m\u001b[0;34m.\u001b[0m\u001b[0mfit\u001b[0m\u001b[0;34m(\u001b[0m\u001b[0mdata\u001b[0m\u001b[0;34m)\u001b[0m\u001b[0;34m\u001b[0m\u001b[0;34m\u001b[0m\u001b[0m\n\u001b[0m",
            "\u001b[0;31mAttributeError\u001b[0m: module 'prophet' has no attribute 'fit'"
          ]
        }
      ]
    },
    {
      "cell_type": "code",
      "source": [
        "예측날짜 = m.make_future_dataframe(periods=120, freq='H')\n",
        "예측값 = m.predict(예측날짜)\n",
        "예측값.tail()"
      ],
      "metadata": {
        "id": "WHRwXv0M144_"
      },
      "execution_count": null,
      "outputs": []
    },
    {
      "cell_type": "code",
      "source": [
        "plot1 = m.plot(예측값)"
      ],
      "metadata": {
        "id": "RuGfZJYv19R2"
      },
      "execution_count": null,
      "outputs": []
    },
    {
      "cell_type": "code",
      "source": [
        "m = prophet(\n",
        "    interval_width = 0.95,\n",
        "    seasonality_mode= 'multiplicative',\n",
        "    yearly_seasonality= True,\n",
        "    changepoint_prior_scale=0.3\n",
        ")\n",
        "\n",
        "\n",
        "\n",
        "m.fit(data)\n"
      ],
      "metadata": {
        "id": "MYdJAjaP2EBa"
      },
      "execution_count": null,
      "outputs": []
    },
    {
      "cell_type": "code",
      "source": [
        "예측날짜 = m.make_future_dataframe(periods=120, freq='H')\n",
        "예측값 = m.predict(예측날짜)\n",
        "예측값"
      ],
      "metadata": {
        "id": "h4yKLJ772E1Y"
      },
      "execution_count": null,
      "outputs": []
    },
    {
      "cell_type": "code",
      "source": [
        "plot1 = m.plot(예측값)"
      ],
      "metadata": {
        "id": "UN5WXWCk2HFa"
      },
      "execution_count": null,
      "outputs": []
    },
    {
      "cell_type": "code",
      "source": [],
      "metadata": {
        "id": "mqu0rgw92JyR"
      },
      "execution_count": null,
      "outputs": []
    },
    {
      "cell_type": "code",
      "source": [],
      "metadata": {
        "id": "vERocJ_jnyG5"
      },
      "execution_count": null,
      "outputs": []
    },
    {
      "cell_type": "markdown",
      "source": [
        "# 코딩 받아온 출처\n",
        " \n",
        " *https://www.youtube.com/watch?v=NgIVYrZW2lg\n",
        " *https://velog.io/@lazydok/1.-%EB%B0%94%EC%9D%B4%EB%82%B8%EC%8A%A4-%EC%B0%A8%ED%8A%B8-%EB%8D%B0%EC%9D%B4%ED%84%B0-%EA%B0%80%EC%A0%B8%EC%98%A4%EA%B8%B0\n",
        "\n",
        " ## 중간에 막히는거 도움 받은 곳\n",
        " *https://www.youtube.com/watch?v=Teju_e9TI3s"
      ],
      "metadata": {
        "id": "o-ikGehAys9j"
      }
    }
  ]
}